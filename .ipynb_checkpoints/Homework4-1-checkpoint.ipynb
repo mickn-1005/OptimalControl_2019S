{
 "cells": [
  {
   "cell_type": "code",
   "execution_count": 1,
   "metadata": {},
   "outputs": [],
   "source": [
    "using JuMP, Plots, FastGaussQuadrature, Jacobi"
   ]
  },
  {
   "cell_type": "markdown",
   "metadata": {},
   "source": [
    "# 最速降下問題の最適制御（擬スペクトル法）\n",
    "$$\n",
    "\\dot{x} = \\sqrt{2gy} \\cos{\\gamma}  \\qquad x(0) = 0\n",
    "$$\n",
    "$$\n",
    "\\dot{y} = \\sqrt{2gy} \\sin{\\gamma}  \\qquad y(0) = 0\n",
    "$$\n",
    "$$\n",
    "\\dot{X} = F(X,U,t)\n",
    "$$\n",
    "で与えられるときに最短時間で\n",
    "$$\n",
    "x(t_f) = l \\qquad  (l > 0)\n",
    "$$\n",
    "に到達するための制御変数 $\\gamma$（flight-path angle）を求める．\n",
    "\n",
    "本レポートにおいては，$g$を重力加速度とする．\n",
    "計算にあたって使用した手法はPseudospectral Legendle Method，プログラミング言語はJulia lang(v1.1)．最適化ソルバーについては `hogehoge` を使用した．"
   ]
  },
  {
   "cell_type": "code",
   "execution_count": 2,
   "metadata": {},
   "outputs": [
    {
     "data": {
      "text/plain": [
       "∂y (generic function with 1 method)"
      ]
     },
     "execution_count": 2,
     "metadata": {},
     "output_type": "execute_result"
    }
   ],
   "source": [
    "const g = 9.8    # [m/s^2]\n",
    "\"\"\"dynamics\"\"\"\n",
    "∂x(y, u) = sqrt(2g*y)*cos(u)\n",
    "∂y(y, u) = sqrt(2g*y)*sin(u)"
   ]
  },
  {
   "cell_type": "markdown",
   "metadata": {},
   "source": [
    "$[-1,1]$で正規化した時刻$t_0,...,t_N$において，\n",
    "\n",
    "$N$次のLegendre多項式 $L_N$を用いて関数\n",
    "$$\n",
    "\\phi_{l}(t) :=\\frac{1}{N(N+1) L_{N}\\left(t_{l}\\right)} \\cdot \\frac{\\left(t^{2}-1\\right) \\dot{L}_{N}(t)}{t-t_{l}}\n",
    "$$\n",
    "を定義すると，\n",
    "$$\n",
    "\\phi_{l}\\left(t_{j}\\right)=\\left\\{\\begin{array}{ll}{1} & {\\text { if } l=j} \\\\ {0} & {\\text { if } l \\neq j}\\end{array}\\right.\n",
    "$$\n",
    "となることがわかる．\n",
    "\n",
    "ただし，$t_i$は$N$次のGauss-Legendre Quadratureの$i$番目のノード($N$次Legendre多項式の$i$番目の零点)である．"
   ]
  },
  {
   "cell_type": "code",
   "execution_count": 3,
   "metadata": {},
   "outputs": [
    {
     "data": {
      "text/plain": [
       "ϕ (generic function with 2 methods)"
      ]
     },
     "execution_count": 3,
     "metadata": {},
     "output_type": "execute_result"
    }
   ],
   "source": [
    "t_node(N::Int) = gausslegendre(N)[1]\n",
    "ϕ(t, l, N) = (t^2-1)*dlegendre(t,N)/(N*(N+1)*legendre(gausslegendre(N)[1][l], N)*(t-gausslegendre(N)[1][l]))\n",
    "ϕ(l, j) = l==j ? 1 : 0"
   ]
  },
  {
   "cell_type": "code",
   "execution_count": 8,
   "metadata": {},
   "outputs": [
    {
     "data": {
      "text/plain": [
       "-0.9739065285171717"
      ]
     },
     "execution_count": 8,
     "metadata": {},
     "output_type": "execute_result"
    }
   ],
   "source": [
    "gausslegendre(10)[1][1]"
   ]
  },
  {
   "cell_type": "markdown",
   "metadata": {},
   "source": [
    "したがって，元のダイナミクスについて，\n",
    "$$\n",
    "F^{N}(t) :=\\sum_{l=0}^{N} F\\left(t_{l}\\right) \\phi_{l}(t)\n",
    "$$\n",
    "$t$は離散化されているので，\n",
    "$$\n",
    "F^{N}\\left(t_{k}\\right)=F\\left(t_{k}\\right), \\qquad k=0,1, \\cdots, N\n",
    "$$\n",
    "とわかる．$x, y, u$についても同様に$\\phi$を用いて離散化できる．\n",
    "\n",
    "$\\dot{F}$については，\n",
    "$$\n",
    "\\dot{F}^{N}\\left(t_{m}\\right)=\\sum_{l=0}^{N} D_{m l} F\\left(t_{l}\\right)\n",
    "$$\n",
    "で表される．ただし，\n",
    "$$\n",
    "D= (D_{ml}) := \\left\\{\\begin{array}{lll}{\\frac{L_N(t_m)}{L_N(t_l)} \\frac{1}{t_m-t_l}} & {m\\neq l} \\\\ {-\\frac{N(N+1)}{4}} & {m=l=0}\\\\ {\\frac{N(N+1)}{4}} & {m=l=N}\\\\ {0} & {\\text { otherwise } }\\end{array}\\right.\n",
    "$$"
   ]
  },
  {
   "cell_type": "code",
   "execution_count": 4,
   "metadata": {},
   "outputs": [
    {
     "data": {
      "text/plain": [
       "D (generic function with 1 method)"
      ]
     },
     "execution_count": 4,
     "metadata": {},
     "output_type": "execute_result"
    }
   ],
   "source": [
    "function D(m,l,N)\n",
    "    if m != l\n",
    "        ret = L_N(t[m])/L_N(t[l]) * 1/(t[m]-t[l])\n",
    "    elseif m==l && m==N\n",
    "        ret = -(N+1)*N/4\n",
    "    elseif m==l && m==0\n",
    "        ret = (N+1)*N/4\n",
    "    else\n",
    "        ret = 0\n",
    "    end\n",
    "    return ret\n",
    "end\n",
    "function D(N)\n",
    "    for i in 1:N+1\n",
    "        for j in 1:N+1"
   ]
  },
  {
   "cell_type": "markdown",
   "metadata": {},
   "source": [
    "離散化されたダイナミクスと目的関数は，\n",
    "$$\n",
    "J^{N} :=h\\left(x^{N}(1), y^{N}(1), T\\right)+\\int_{-1}^{1} g\\left(x^{N}(t), y^{N}(t), u^{N}(t), t, T\\right) d t\n",
    "$$\n",
    "$$\n",
    "\\begin{aligned} \\dot{x}^{N}\\left(t_{k}\\right)=f_1\\left(x^{N}\\left(t_{k}\\right), y^{N}\\left(t_{k}\\right), u^{N}\\left(t_{k}\\right), t_{k}, T\\right) & \\\\(k=0,& 1, \\cdots, N ), x^{N}\\left(t_{0}\\right)=x_{0} \\end{aligned}\n",
    "$$\n",
    "$$\n",
    "\\begin{aligned} \\dot{y}^{N}\\left(t_{k}\\right)=f_2\\left(x^{N}\\left(t_{k}\\right), y^{N}\\left(t_{k}\\right),u^{N}\\left(t_{k}\\right), t_{k}, T\\right) & \\\\(k=0,& 1, \\cdots, N ), y^{N}\\left(t_{0}\\right)=y_{0} \\end{aligned}\n",
    "$$\n",
    "制約条件\n",
    "$$\n",
    "S_{j}(x(t), u(t), t, T) \\leq 0,\\qquad(j=1, \\cdots, 0), \\quad-1 \\leq t \\leq 1\n",
    "$$\n",
    "が存在する場合は\n",
    "$$\n",
    "\\begin{aligned} S_{j}\\left(x^{N}\\left(t_{k}\\right), y^{N}\\left(t_{k}\\right), u^{N}\\left(t_{k}\\right), t_{k}, T\\right) & \\leq 0 \\\\(j=1, \\cdots, \\nu), &(k=0,1, \\cdots, N) \\end{aligned}\n",
    "$$\n",
    "の非線形最適化問題に帰着できる．このとき，目的関数第二項はGauss-Lobattoの積分公式より，\n",
    "$$\n",
    "\\int_{-1}^{1} g\\left(x^{N}(t), y^{N}(t), u^{N}(t), t, T\\right) d t=\\sum_{k=0}^{N} g\\left(x^{N}\\left(t_{k}\\right), y^{N}(t_k), u^{N}\\left(t_{k}\\right), t_{k}, T\\right) w_{k}\n",
    "$$\n",
    "なる重み付き線形和で表される．ただし，\n",
    "$$\n",
    "w_{k}=\\frac{2}{N(N+1)} \\cdot \\frac{1}{\\left[L_{N}\\left(t_{k}\\right)\\right]^{2}} \\qquad k=0,1, \\cdots, N\n",
    "$$\n",
    "ダイナミクスからくる拘束条件は以下のように変形することができる．\n",
    "$$\n",
    "A_{k} :=F\\left(a_{k}, b_{k}, t_{k}, T\\right)-d_{k}= {0}, \\quad(k=0,1, \\cdots, N)\n",
    "$$\n",
    "ただし，\n",
    "$$\n",
    "a_{i k} :=x_{i}\\left(t_{k}\\right), a_{k} :=\\left(a_{0 k}, \\cdots, a_{(n-1) k}\\right)^{T}\n",
    "$$\n",
    "$$\n",
    "b_{i k} :=u_{i}\\left(t_{k}\\right), b_{k} :=\\left(b_{0 k}, \\cdots, b_{(n-1) k}\\right)^{T}\n",
    "$$\n",
    "本問の場合，$a$については$n=2$，$b$については$n=1$である．\n",
    "\n",
    "$d_k$は，行列\n",
    "$$\n",
    "D\\left(\\hat{a}_{0}^{T}, \\hat{a}_{1}^{T}, \\cdots, \\hat{a}_{n-1}^{T}\\right)^{T}\n",
    "$$\n",
    "の$k$番目のベクトルである．ただし，$\n",
    "\\hat{a}_{i} :=\\left(a_{i 0}, a_{i 1}, \\cdots, a_{i N}\\right)^{T}\n",
    "$\n",
    "で，\n",
    "$$\n",
    "\\hat{D} :=\n",
    "        \\left[\\begin{array}{ccc}\n",
    "            D & 0 & 0 \\\\\n",
    "            0  & \\ddots & 0 \\\\\n",
    "            0 & 0 & D \\\\\n",
    "        \\end{array}\\right]\n",
    "$$\n",
    "は$((N+1)(n+1),(N+1)(n+1))$行列である．参考文献では$A_k$の定義は$D$でなく$\\hat{D}$だったが，次元が合わないため$D$で計算している．意図しているところははずしていない？\n",
    "\n",
    "最適制御の問題は\n",
    "$$\n",
    "J^{N}(\\alpha, \\beta, T) :=h\\left(a_{N}, T\\right)+\\sum_{k=0}^{N} g\\left(a_{k}, b_{k}, t_{k}, T\\right) w_{k}\n",
    "$$\n",
    "subject to\n",
    "$$\n",
    "A_{k} :=f\\left(a_{k}, b_{k}, t_{k}, T\\right)-d_{k}=0,(k=0,1, \\cdots, N)\n",
    "$$\n",
    "を最小化させる最適な\n",
    "$$\n",
    "\\alpha :=\\left(a_{0}, a_{1}, \\cdots, a_{N}\\right), \\quad \\beta :=\\left(b_{0}, b_{1}, \\cdots, b_{N}\\right), \\quad T\n",
    "$$\n",
    "を探索する問題になる．"
   ]
  },
  {
   "cell_type": "markdown",
   "metadata": {},
   "source": [
    "時刻の正規化写像として，$\\tau : [0,T] -> [-1,1]$"
   ]
  },
  {
   "cell_type": "code",
   "execution_count": 6,
   "metadata": {},
   "outputs": [
    {
     "data": {
      "text/plain": [
       "T (generic function with 1 method)"
      ]
     },
     "execution_count": 6,
     "metadata": {},
     "output_type": "execute_result"
    }
   ],
   "source": [
    "τ(t, T) = T*(t+1)/2\n",
    "T(t, τ) = t==-1. ? 0 : 2τ/(t+1)"
   ]
  },
  {
   "cell_type": "markdown",
   "metadata": {},
   "source": [
    "を定義すると，逆に\n",
    "$$\n",
    "T = "
   ]
  },
  {
   "cell_type": "code",
   "execution_count": null,
   "metadata": {},
   "outputs": [],
   "source": []
  },
  {
   "cell_type": "code",
   "execution_count": null,
   "metadata": {},
   "outputs": [],
   "source": []
  },
  {
   "cell_type": "code",
   "execution_count": null,
   "metadata": {},
   "outputs": [],
   "source": []
  },
  {
   "cell_type": "markdown",
   "metadata": {},
   "source": [
    "### 参考文献\n",
    "Elnagar, Gamal, Mohammad A. Kazemi, and Mohsen Razzaghi. \"The pseudospectral Legendre method for discretizing optimal control problems.\" IEEE transactions on Automatic Control 40.10 (1995): 1793-1796."
   ]
  }
 ],
 "metadata": {
  "kernelspec": {
   "display_name": "Julia 1.1.1",
   "language": "julia",
   "name": "julia-1.1"
  },
  "language_info": {
   "file_extension": ".jl",
   "mimetype": "application/julia",
   "name": "julia",
   "version": "1.1.1"
  }
 },
 "nbformat": 4,
 "nbformat_minor": 2
}
