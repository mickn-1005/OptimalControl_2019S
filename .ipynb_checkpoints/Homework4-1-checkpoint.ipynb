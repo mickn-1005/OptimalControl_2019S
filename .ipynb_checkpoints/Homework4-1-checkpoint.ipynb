{
 "cells": [
  {
   "cell_type": "code",
   "execution_count": 1,
   "metadata": {},
   "outputs": [],
   "source": [
    "using JuMP, Plots, FastGaussQuadrature, Jacobi"
   ]
  },
  {
   "cell_type": "markdown",
   "metadata": {},
   "source": [
    "# 最速降下問題の最適制御（擬スペクトル法）\n",
    "$$\n",
    "\\dot{x} = \\sqrt{2gy} \\cos{\\gamma}  \\qquad x(0) = 0\n",
    "$$\n",
    "$$\n",
    "\\dot{y} = \\sqrt{2gy} \\sin{\\gamma}  \\qquad y(0) = 0\n",
    "$$\n",
    "$$\n",
    "\\dot{X} = F(X,U,t)\n",
    "$$\n",
    "で与えられるときに最短時間で\n",
    "$$\n",
    "x(t_f) = l \\qquad  (l > 0)\n",
    "$$\n",
    "に到達するための制御変数 $\\gamma$（flight-path angle）を求める．\n",
    "\n",
    "本レポートにおいては，$g$を重力加速度とする．\n",
    "計算にあたって使用した手法はPseudospectral Legendle-Gauss Method，プログラミング言語はJulia lang(v1.1)．最適化ソルバーについては `hogehoge` を使用した．"
   ]
  },
  {
   "cell_type": "code",
   "execution_count": 2,
   "metadata": {},
   "outputs": [
    {
     "data": {
      "text/plain": [
       "∂y (generic function with 1 method)"
      ]
     },
     "execution_count": 2,
     "metadata": {},
     "output_type": "execute_result"
    }
   ],
   "source": [
    "const g = 9.8    # [m/s^2]\n",
    "\"\"\"dynamics\"\"\"\n",
    "∂x(y, u) = sqrt(2g*y)*cos(u)\n",
    "∂y(y, u) = sqrt(2g*y)*sin(u)\n",
    "∂X(X,U,τ) = [∂x(X[2], U[1]), ∂y(X[2], U[1])]"
   ]
  },
  {
   "cell_type": "markdown",
   "metadata": {},
   "source": [
    "$[-1,1]$で正規化した時刻$t_0,...,t_N$において，\n",
    "\n",
    "$N$次のLegendre多項式 $L_N$を用いて関数\n",
    "$$\n",
    "\\phi_{l}(t) :=\\frac{1}{N(N+1) L_{N}\\left(t_{l}\\right)} \\cdot \\frac{\\left(t^{2}-1\\right) \\dot{L}_{N}(t)}{t-t_{l}}\n",
    "$$\n",
    "$$\n",
    "=\\prod_{j=0, j \\neq i}^{N} \\frac{\\tau-\\tau_{j}}{\\tau_{i}-\\tau_{j}}\n",
    "$$\n",
    "を定義すると，\n",
    "$$\n",
    "\\phi_{l}\\left(t_{j}\\right)=\\left\\{\\begin{array}{ll}{1} & {\\text { if } l=j} \\\\ {0} & {\\text { if } l \\neq j}\\end{array}\\right.\n",
    "$$\n",
    "となることがわかる．\n",
    "\n",
    "ただし，$t_i$は$N$次のGauss-Legendre Quadratureの$i$番目のノード($N$次Legendre多項式の$i$番目の零点)である．"
   ]
  },
  {
   "cell_type": "code",
   "execution_count": 3,
   "metadata": {},
   "outputs": [
    {
     "data": {
      "text/plain": [
       "ϕ (generic function with 1 method)"
      ]
     },
     "execution_count": 3,
     "metadata": {},
     "output_type": "execute_result"
    }
   ],
   "source": [
    "τ(t, T) = T*(t+1)/2\n",
    "# ϕ(t, l, N) = (t^2-1)*dlegendre(t,N)/(N*(N+1)*legendre(gausslegendre(N)[1][l], N)*(t-gausslegendre(N)[1][l]))\n",
    "ϕ(l, j) = l==j ? 1 : 0"
   ]
  },
  {
   "cell_type": "code",
   "execution_count": 4,
   "metadata": {},
   "outputs": [
    {
     "data": {
      "image/svg+xml": [
       "<?xml version=\"1.0\" encoding=\"utf-8\"?>\n",
       "<svg xmlns=\"http://www.w3.org/2000/svg\" xmlns:xlink=\"http://www.w3.org/1999/xlink\" width=\"600\" height=\"400\" viewBox=\"0 0 2400 1600\">\n",
       "<defs>\n",
       "  <clipPath id=\"clip8800\">\n",
       "    <rect x=\"0\" y=\"0\" width=\"2400\" height=\"1600\"/>\n",
       "  </clipPath>\n",
       "</defs>\n",
       "<polygon clip-path=\"url(#clip8800)\" points=\"\n",
       "0,1600 2400,1600 2400,0 0,0 \n",
       "  \" fill=\"#ffffff\" fill-rule=\"evenodd\" fill-opacity=\"1\"/>\n",
       "<defs>\n",
       "  <clipPath id=\"clip8801\">\n",
       "    <rect x=\"480\" y=\"0\" width=\"1681\" height=\"1600\"/>\n",
       "  </clipPath>\n",
       "</defs>\n",
       "<polygon clip-path=\"url(#clip8800)\" points=\"\n",
       "243.864,1487.47 2352.76,1487.47 2352.76,47.2441 243.864,47.2441 \n",
       "  \" fill=\"#ffffff\" fill-rule=\"evenodd\" fill-opacity=\"1\"/>\n",
       "<defs>\n",
       "  <clipPath id=\"clip8802\">\n",
       "    <rect x=\"243\" y=\"47\" width=\"2110\" height=\"1441\"/>\n",
       "  </clipPath>\n",
       "</defs>\n",
       "<polyline clip-path=\"url(#clip8802)\" style=\"stroke:#000000; stroke-width:2; stroke-opacity:0.1; fill:none\" points=\"\n",
       "  635.137,1487.47 635.137,47.2441 \n",
       "  \"/>\n",
       "<polyline clip-path=\"url(#clip8802)\" style=\"stroke:#000000; stroke-width:2; stroke-opacity:0.1; fill:none\" points=\"\n",
       "  1049.62,1487.47 1049.62,47.2441 \n",
       "  \"/>\n",
       "<polyline clip-path=\"url(#clip8802)\" style=\"stroke:#000000; stroke-width:2; stroke-opacity:0.1; fill:none\" points=\"\n",
       "  1464.1,1487.47 1464.1,47.2441 \n",
       "  \"/>\n",
       "<polyline clip-path=\"url(#clip8802)\" style=\"stroke:#000000; stroke-width:2; stroke-opacity:0.1; fill:none\" points=\"\n",
       "  1878.59,1487.47 1878.59,47.2441 \n",
       "  \"/>\n",
       "<polyline clip-path=\"url(#clip8802)\" style=\"stroke:#000000; stroke-width:2; stroke-opacity:0.1; fill:none\" points=\"\n",
       "  2293.07,1487.47 2293.07,47.2441 \n",
       "  \"/>\n",
       "<polyline clip-path=\"url(#clip8802)\" style=\"stroke:#000000; stroke-width:2; stroke-opacity:0.1; fill:none\" points=\"\n",
       "  243.864,1449.75 2352.76,1449.75 \n",
       "  \"/>\n",
       "<polyline clip-path=\"url(#clip8802)\" style=\"stroke:#000000; stroke-width:2; stroke-opacity:0.1; fill:none\" points=\"\n",
       "  243.864,1108.55 2352.76,1108.55 \n",
       "  \"/>\n",
       "<polyline clip-path=\"url(#clip8802)\" style=\"stroke:#000000; stroke-width:2; stroke-opacity:0.1; fill:none\" points=\"\n",
       "  243.864,767.359 2352.76,767.359 \n",
       "  \"/>\n",
       "<polyline clip-path=\"url(#clip8802)\" style=\"stroke:#000000; stroke-width:2; stroke-opacity:0.1; fill:none\" points=\"\n",
       "  243.864,426.166 2352.76,426.166 \n",
       "  \"/>\n",
       "<polyline clip-path=\"url(#clip8802)\" style=\"stroke:#000000; stroke-width:2; stroke-opacity:0.1; fill:none\" points=\"\n",
       "  243.864,84.9735 2352.76,84.9735 \n",
       "  \"/>\n",
       "<polyline clip-path=\"url(#clip8800)\" style=\"stroke:#000000; stroke-width:4; stroke-opacity:1; fill:none\" points=\"\n",
       "  243.864,1487.47 2352.76,1487.47 \n",
       "  \"/>\n",
       "<polyline clip-path=\"url(#clip8800)\" style=\"stroke:#000000; stroke-width:4; stroke-opacity:1; fill:none\" points=\"\n",
       "  243.864,1487.47 243.864,47.2441 \n",
       "  \"/>\n",
       "<polyline clip-path=\"url(#clip8800)\" style=\"stroke:#000000; stroke-width:4; stroke-opacity:1; fill:none\" points=\"\n",
       "  635.137,1487.47 635.137,1465.87 \n",
       "  \"/>\n",
       "<polyline clip-path=\"url(#clip8800)\" style=\"stroke:#000000; stroke-width:4; stroke-opacity:1; fill:none\" points=\"\n",
       "  1049.62,1487.47 1049.62,1465.87 \n",
       "  \"/>\n",
       "<polyline clip-path=\"url(#clip8800)\" style=\"stroke:#000000; stroke-width:4; stroke-opacity:1; fill:none\" points=\"\n",
       "  1464.1,1487.47 1464.1,1465.87 \n",
       "  \"/>\n",
       "<polyline clip-path=\"url(#clip8800)\" style=\"stroke:#000000; stroke-width:4; stroke-opacity:1; fill:none\" points=\"\n",
       "  1878.59,1487.47 1878.59,1465.87 \n",
       "  \"/>\n",
       "<polyline clip-path=\"url(#clip8800)\" style=\"stroke:#000000; stroke-width:4; stroke-opacity:1; fill:none\" points=\"\n",
       "  2293.07,1487.47 2293.07,1465.87 \n",
       "  \"/>\n",
       "<polyline clip-path=\"url(#clip8800)\" style=\"stroke:#000000; stroke-width:4; stroke-opacity:1; fill:none\" points=\"\n",
       "  243.864,1449.75 275.498,1449.75 \n",
       "  \"/>\n",
       "<polyline clip-path=\"url(#clip8800)\" style=\"stroke:#000000; stroke-width:4; stroke-opacity:1; fill:none\" points=\"\n",
       "  243.864,1108.55 275.498,1108.55 \n",
       "  \"/>\n",
       "<polyline clip-path=\"url(#clip8800)\" style=\"stroke:#000000; stroke-width:4; stroke-opacity:1; fill:none\" points=\"\n",
       "  243.864,767.359 275.498,767.359 \n",
       "  \"/>\n",
       "<polyline clip-path=\"url(#clip8800)\" style=\"stroke:#000000; stroke-width:4; stroke-opacity:1; fill:none\" points=\"\n",
       "  243.864,426.166 275.498,426.166 \n",
       "  \"/>\n",
       "<polyline clip-path=\"url(#clip8800)\" style=\"stroke:#000000; stroke-width:4; stroke-opacity:1; fill:none\" points=\"\n",
       "  243.864,84.9735 275.498,84.9735 \n",
       "  \"/>\n",
       "<g clip-path=\"url(#clip8800)\">\n",
       "<text style=\"fill:#000000; fill-opacity:1; font-family:Arial,Helvetica Neue,Helvetica,sans-serif; font-size:48px; text-anchor:middle;\" transform=\"rotate(0, 635.137, 1541.47)\" x=\"635.137\" y=\"1541.47\">5</text>\n",
       "</g>\n",
       "<g clip-path=\"url(#clip8800)\">\n",
       "<text style=\"fill:#000000; fill-opacity:1; font-family:Arial,Helvetica Neue,Helvetica,sans-serif; font-size:48px; text-anchor:middle;\" transform=\"rotate(0, 1049.62, 1541.47)\" x=\"1049.62\" y=\"1541.47\">10</text>\n",
       "</g>\n",
       "<g clip-path=\"url(#clip8800)\">\n",
       "<text style=\"fill:#000000; fill-opacity:1; font-family:Arial,Helvetica Neue,Helvetica,sans-serif; font-size:48px; text-anchor:middle;\" transform=\"rotate(0, 1464.1, 1541.47)\" x=\"1464.1\" y=\"1541.47\">15</text>\n",
       "</g>\n",
       "<g clip-path=\"url(#clip8800)\">\n",
       "<text style=\"fill:#000000; fill-opacity:1; font-family:Arial,Helvetica Neue,Helvetica,sans-serif; font-size:48px; text-anchor:middle;\" transform=\"rotate(0, 1878.59, 1541.47)\" x=\"1878.59\" y=\"1541.47\">20</text>\n",
       "</g>\n",
       "<g clip-path=\"url(#clip8800)\">\n",
       "<text style=\"fill:#000000; fill-opacity:1; font-family:Arial,Helvetica Neue,Helvetica,sans-serif; font-size:48px; text-anchor:middle;\" transform=\"rotate(0, 2293.07, 1541.47)\" x=\"2293.07\" y=\"1541.47\">25</text>\n",
       "</g>\n",
       "<g clip-path=\"url(#clip8800)\">\n",
       "<text style=\"fill:#000000; fill-opacity:1; font-family:Arial,Helvetica Neue,Helvetica,sans-serif; font-size:48px; text-anchor:end;\" transform=\"rotate(0, 219.864, 1467.25)\" x=\"219.864\" y=\"1467.25\">-1.0</text>\n",
       "</g>\n",
       "<g clip-path=\"url(#clip8800)\">\n",
       "<text style=\"fill:#000000; fill-opacity:1; font-family:Arial,Helvetica Neue,Helvetica,sans-serif; font-size:48px; text-anchor:end;\" transform=\"rotate(0, 219.864, 1126.05)\" x=\"219.864\" y=\"1126.05\">-0.5</text>\n",
       "</g>\n",
       "<g clip-path=\"url(#clip8800)\">\n",
       "<text style=\"fill:#000000; fill-opacity:1; font-family:Arial,Helvetica Neue,Helvetica,sans-serif; font-size:48px; text-anchor:end;\" transform=\"rotate(0, 219.864, 784.859)\" x=\"219.864\" y=\"784.859\">0.0</text>\n",
       "</g>\n",
       "<g clip-path=\"url(#clip8800)\">\n",
       "<text style=\"fill:#000000; fill-opacity:1; font-family:Arial,Helvetica Neue,Helvetica,sans-serif; font-size:48px; text-anchor:end;\" transform=\"rotate(0, 219.864, 443.666)\" x=\"219.864\" y=\"443.666\">0.5</text>\n",
       "</g>\n",
       "<g clip-path=\"url(#clip8800)\">\n",
       "<text style=\"fill:#000000; fill-opacity:1; font-family:Arial,Helvetica Neue,Helvetica,sans-serif; font-size:48px; text-anchor:end;\" transform=\"rotate(0, 219.864, 102.473)\" x=\"219.864\" y=\"102.473\">1.0</text>\n",
       "</g>\n",
       "<g clip-path=\"url(#clip8800)\">\n",
       "<text style=\"fill:#000000; fill-opacity:1; font-family:Arial,Helvetica Neue,Helvetica,sans-serif; font-size:66px; text-anchor:middle;\" transform=\"rotate(-90, 89.2861, 767.359)\" x=\"89.2861\" y=\"767.359\">discretized time</text>\n",
       "</g>\n",
       "<circle clip-path=\"url(#clip8802)\" style=\"fill:#000000; stroke:none; fill-opacity:1\" cx=\"303.55\" cy=\"1431.94\" r=\"18\"/>\n",
       "<circle clip-path=\"url(#clip8802)\" style=\"fill:#009af9; stroke:none; fill-opacity:1\" cx=\"303.55\" cy=\"1431.94\" r=\"14\"/>\n",
       "<circle clip-path=\"url(#clip8802)\" style=\"fill:#000000; stroke:none; fill-opacity:1\" cx=\"386.446\" cy=\"1357.67\" r=\"18\"/>\n",
       "<circle clip-path=\"url(#clip8802)\" style=\"fill:#009af9; stroke:none; fill-opacity:1\" cx=\"386.446\" cy=\"1357.67\" r=\"14\"/>\n",
       "<circle clip-path=\"url(#clip8802)\" style=\"fill:#000000; stroke:none; fill-opacity:1\" cx=\"469.343\" cy=\"1230.98\" r=\"18\"/>\n",
       "<circle clip-path=\"url(#clip8802)\" style=\"fill:#009af9; stroke:none; fill-opacity:1\" cx=\"469.343\" cy=\"1230.98\" r=\"14\"/>\n",
       "<circle clip-path=\"url(#clip8802)\" style=\"fill:#000000; stroke:none; fill-opacity:1\" cx=\"552.24\" cy=\"1063.1\" r=\"18\"/>\n",
       "<circle clip-path=\"url(#clip8802)\" style=\"fill:#009af9; stroke:none; fill-opacity:1\" cx=\"552.24\" cy=\"1063.1\" r=\"14\"/>\n",
       "<circle clip-path=\"url(#clip8802)\" style=\"fill:#000000; stroke:none; fill-opacity:1\" cx=\"635.137\" cy=\"868.949\" r=\"18\"/>\n",
       "<circle clip-path=\"url(#clip8802)\" style=\"fill:#009af9; stroke:none; fill-opacity:1\" cx=\"635.137\" cy=\"868.949\" r=\"14\"/>\n",
       "<circle clip-path=\"url(#clip8802)\" style=\"fill:#000000; stroke:none; fill-opacity:1\" cx=\"718.033\" cy=\"665.77\" r=\"18\"/>\n",
       "<circle clip-path=\"url(#clip8802)\" style=\"fill:#009af9; stroke:none; fill-opacity:1\" cx=\"718.033\" cy=\"665.77\" r=\"14\"/>\n",
       "<circle clip-path=\"url(#clip8802)\" style=\"fill:#000000; stroke:none; fill-opacity:1\" cx=\"800.93\" cy=\"471.616\" r=\"18\"/>\n",
       "<circle clip-path=\"url(#clip8802)\" style=\"fill:#009af9; stroke:none; fill-opacity:1\" cx=\"800.93\" cy=\"471.616\" r=\"14\"/>\n",
       "<circle clip-path=\"url(#clip8802)\" style=\"fill:#000000; stroke:none; fill-opacity:1\" cx=\"883.827\" cy=\"303.74\" r=\"18\"/>\n",
       "<circle clip-path=\"url(#clip8802)\" style=\"fill:#009af9; stroke:none; fill-opacity:1\" cx=\"883.827\" cy=\"303.74\" r=\"14\"/>\n",
       "<circle clip-path=\"url(#clip8802)\" style=\"fill:#000000; stroke:none; fill-opacity:1\" cx=\"966.723\" cy=\"177.052\" r=\"18\"/>\n",
       "<circle clip-path=\"url(#clip8802)\" style=\"fill:#009af9; stroke:none; fill-opacity:1\" cx=\"966.723\" cy=\"177.052\" r=\"14\"/>\n",
       "<circle clip-path=\"url(#clip8802)\" style=\"fill:#000000; stroke:none; fill-opacity:1\" cx=\"1049.62\" cy=\"102.779\" r=\"18\"/>\n",
       "<circle clip-path=\"url(#clip8802)\" style=\"fill:#009af9; stroke:none; fill-opacity:1\" cx=\"1049.62\" cy=\"102.779\" r=\"14\"/>\n",
       "<circle clip-path=\"url(#clip8802)\" style=\"fill:#000000; stroke:none; fill-opacity:1\" cx=\"303.55\" cy=\"1385.72\" r=\"18\"/>\n",
       "<circle clip-path=\"url(#clip8802)\" style=\"fill:#e26f46; stroke:none; fill-opacity:1\" cx=\"303.55\" cy=\"1385.72\" r=\"14\"/>\n",
       "<circle clip-path=\"url(#clip8802)\" style=\"fill:#000000; stroke:none; fill-opacity:1\" cx=\"386.446\" cy=\"1134.8\" r=\"18\"/>\n",
       "<circle clip-path=\"url(#clip8802)\" style=\"fill:#e26f46; stroke:none; fill-opacity:1\" cx=\"386.446\" cy=\"1134.8\" r=\"14\"/>\n",
       "<circle clip-path=\"url(#clip8802)\" style=\"fill:#000000; stroke:none; fill-opacity:1\" cx=\"469.343\" cy=\"767.359\" r=\"18\"/>\n",
       "<circle clip-path=\"url(#clip8802)\" style=\"fill:#e26f46; stroke:none; fill-opacity:1\" cx=\"469.343\" cy=\"767.359\" r=\"14\"/>\n",
       "<circle clip-path=\"url(#clip8802)\" style=\"fill:#000000; stroke:none; fill-opacity:1\" cx=\"552.24\" cy=\"399.916\" r=\"18\"/>\n",
       "<circle clip-path=\"url(#clip8802)\" style=\"fill:#e26f46; stroke:none; fill-opacity:1\" cx=\"552.24\" cy=\"399.916\" r=\"14\"/>\n",
       "<circle clip-path=\"url(#clip8802)\" style=\"fill:#000000; stroke:none; fill-opacity:1\" cx=\"635.137\" cy=\"148.995\" r=\"18\"/>\n",
       "<circle clip-path=\"url(#clip8802)\" style=\"fill:#e26f46; stroke:none; fill-opacity:1\" cx=\"635.137\" cy=\"148.995\" r=\"14\"/>\n",
       "<circle clip-path=\"url(#clip8802)\" style=\"fill:#000000; stroke:none; fill-opacity:1\" cx=\"303.55\" cy=\"1446.71\" r=\"18\"/>\n",
       "<circle clip-path=\"url(#clip8802)\" style=\"fill:#3da44d; stroke:none; fill-opacity:1\" cx=\"303.55\" cy=\"1446.71\" r=\"14\"/>\n",
       "<circle clip-path=\"url(#clip8802)\" style=\"fill:#000000; stroke:none; fill-opacity:1\" cx=\"386.446\" cy=\"1433.82\" r=\"18\"/>\n",
       "<circle clip-path=\"url(#clip8802)\" style=\"fill:#3da44d; stroke:none; fill-opacity:1\" cx=\"386.446\" cy=\"1433.82\" r=\"14\"/>\n",
       "<circle clip-path=\"url(#clip8802)\" style=\"fill:#000000; stroke:none; fill-opacity:1\" cx=\"469.343\" cy=\"1410.83\" r=\"18\"/>\n",
       "<circle clip-path=\"url(#clip8802)\" style=\"fill:#3da44d; stroke:none; fill-opacity:1\" cx=\"469.343\" cy=\"1410.83\" r=\"14\"/>\n",
       "<circle clip-path=\"url(#clip8802)\" style=\"fill:#000000; stroke:none; fill-opacity:1\" cx=\"552.24\" cy=\"1378.09\" r=\"18\"/>\n",
       "<circle clip-path=\"url(#clip8802)\" style=\"fill:#3da44d; stroke:none; fill-opacity:1\" cx=\"552.24\" cy=\"1378.09\" r=\"14\"/>\n",
       "<circle clip-path=\"url(#clip8802)\" style=\"fill:#000000; stroke:none; fill-opacity:1\" cx=\"635.137\" cy=\"1336.09\" r=\"18\"/>\n",
       "<circle clip-path=\"url(#clip8802)\" style=\"fill:#3da44d; stroke:none; fill-opacity:1\" cx=\"635.137\" cy=\"1336.09\" r=\"14\"/>\n",
       "<circle clip-path=\"url(#clip8802)\" style=\"fill:#000000; stroke:none; fill-opacity:1\" cx=\"718.033\" cy=\"1285.47\" r=\"18\"/>\n",
       "<circle clip-path=\"url(#clip8802)\" style=\"fill:#3da44d; stroke:none; fill-opacity:1\" cx=\"718.033\" cy=\"1285.47\" r=\"14\"/>\n",
       "<circle clip-path=\"url(#clip8802)\" style=\"fill:#000000; stroke:none; fill-opacity:1\" cx=\"800.93\" cy=\"1226.99\" r=\"18\"/>\n",
       "<circle clip-path=\"url(#clip8802)\" style=\"fill:#3da44d; stroke:none; fill-opacity:1\" cx=\"800.93\" cy=\"1226.99\" r=\"14\"/>\n",
       "<circle clip-path=\"url(#clip8802)\" style=\"fill:#000000; stroke:none; fill-opacity:1\" cx=\"883.827\" cy=\"1161.55\" r=\"18\"/>\n",
       "<circle clip-path=\"url(#clip8802)\" style=\"fill:#3da44d; stroke:none; fill-opacity:1\" cx=\"883.827\" cy=\"1161.55\" r=\"14\"/>\n",
       "<circle clip-path=\"url(#clip8802)\" style=\"fill:#000000; stroke:none; fill-opacity:1\" cx=\"966.723\" cy=\"1090.13\" r=\"18\"/>\n",
       "<circle clip-path=\"url(#clip8802)\" style=\"fill:#3da44d; stroke:none; fill-opacity:1\" cx=\"966.723\" cy=\"1090.13\" r=\"14\"/>\n",
       "<circle clip-path=\"url(#clip8802)\" style=\"fill:#000000; stroke:none; fill-opacity:1\" cx=\"1049.62\" cy=\"1013.82\" r=\"18\"/>\n",
       "<circle clip-path=\"url(#clip8802)\" style=\"fill:#3da44d; stroke:none; fill-opacity:1\" cx=\"1049.62\" cy=\"1013.82\" r=\"14\"/>\n",
       "<circle clip-path=\"url(#clip8802)\" style=\"fill:#000000; stroke:none; fill-opacity:1\" cx=\"1132.52\" cy=\"933.771\" r=\"18\"/>\n",
       "<circle clip-path=\"url(#clip8802)\" style=\"fill:#3da44d; stroke:none; fill-opacity:1\" cx=\"1132.52\" cy=\"933.771\" r=\"14\"/>\n",
       "<circle clip-path=\"url(#clip8802)\" style=\"fill:#000000; stroke:none; fill-opacity:1\" cx=\"1215.41\" cy=\"851.201\" r=\"18\"/>\n",
       "<circle clip-path=\"url(#clip8802)\" style=\"fill:#3da44d; stroke:none; fill-opacity:1\" cx=\"1215.41\" cy=\"851.201\" r=\"14\"/>\n",
       "<circle clip-path=\"url(#clip8802)\" style=\"fill:#000000; stroke:none; fill-opacity:1\" cx=\"1298.31\" cy=\"767.359\" r=\"18\"/>\n",
       "<circle clip-path=\"url(#clip8802)\" style=\"fill:#3da44d; stroke:none; fill-opacity:1\" cx=\"1298.31\" cy=\"767.359\" r=\"14\"/>\n",
       "<circle clip-path=\"url(#clip8802)\" style=\"fill:#000000; stroke:none; fill-opacity:1\" cx=\"1381.21\" cy=\"683.518\" r=\"18\"/>\n",
       "<circle clip-path=\"url(#clip8802)\" style=\"fill:#3da44d; stroke:none; fill-opacity:1\" cx=\"1381.21\" cy=\"683.518\" r=\"14\"/>\n",
       "<circle clip-path=\"url(#clip8802)\" style=\"fill:#000000; stroke:none; fill-opacity:1\" cx=\"1464.1\" cy=\"600.948\" r=\"18\"/>\n",
       "<circle clip-path=\"url(#clip8802)\" style=\"fill:#3da44d; stroke:none; fill-opacity:1\" cx=\"1464.1\" cy=\"600.948\" r=\"14\"/>\n",
       "<circle clip-path=\"url(#clip8802)\" style=\"fill:#000000; stroke:none; fill-opacity:1\" cx=\"1547\" cy=\"520.901\" r=\"18\"/>\n",
       "<circle clip-path=\"url(#clip8802)\" style=\"fill:#3da44d; stroke:none; fill-opacity:1\" cx=\"1547\" cy=\"520.901\" r=\"14\"/>\n",
       "<circle clip-path=\"url(#clip8802)\" style=\"fill:#000000; stroke:none; fill-opacity:1\" cx=\"1629.9\" cy=\"444.589\" r=\"18\"/>\n",
       "<circle clip-path=\"url(#clip8802)\" style=\"fill:#3da44d; stroke:none; fill-opacity:1\" cx=\"1629.9\" cy=\"444.589\" r=\"14\"/>\n",
       "<circle clip-path=\"url(#clip8802)\" style=\"fill:#000000; stroke:none; fill-opacity:1\" cx=\"1712.79\" cy=\"373.17\" r=\"18\"/>\n",
       "<circle clip-path=\"url(#clip8802)\" style=\"fill:#3da44d; stroke:none; fill-opacity:1\" cx=\"1712.79\" cy=\"373.17\" r=\"14\"/>\n",
       "<circle clip-path=\"url(#clip8802)\" style=\"fill:#000000; stroke:none; fill-opacity:1\" cx=\"1795.69\" cy=\"307.727\" r=\"18\"/>\n",
       "<circle clip-path=\"url(#clip8802)\" style=\"fill:#3da44d; stroke:none; fill-opacity:1\" cx=\"1795.69\" cy=\"307.727\" r=\"14\"/>\n",
       "<circle clip-path=\"url(#clip8802)\" style=\"fill:#000000; stroke:none; fill-opacity:1\" cx=\"1878.59\" cy=\"249.252\" r=\"18\"/>\n",
       "<circle clip-path=\"url(#clip8802)\" style=\"fill:#3da44d; stroke:none; fill-opacity:1\" cx=\"1878.59\" cy=\"249.252\" r=\"14\"/>\n",
       "<circle clip-path=\"url(#clip8802)\" style=\"fill:#000000; stroke:none; fill-opacity:1\" cx=\"1961.48\" cy=\"198.63\" r=\"18\"/>\n",
       "<circle clip-path=\"url(#clip8802)\" style=\"fill:#3da44d; stroke:none; fill-opacity:1\" cx=\"1961.48\" cy=\"198.63\" r=\"14\"/>\n",
       "<circle clip-path=\"url(#clip8802)\" style=\"fill:#000000; stroke:none; fill-opacity:1\" cx=\"2044.38\" cy=\"156.629\" r=\"18\"/>\n",
       "<circle clip-path=\"url(#clip8802)\" style=\"fill:#3da44d; stroke:none; fill-opacity:1\" cx=\"2044.38\" cy=\"156.629\" r=\"14\"/>\n",
       "<circle clip-path=\"url(#clip8802)\" style=\"fill:#000000; stroke:none; fill-opacity:1\" cx=\"2127.28\" cy=\"123.887\" r=\"18\"/>\n",
       "<circle clip-path=\"url(#clip8802)\" style=\"fill:#3da44d; stroke:none; fill-opacity:1\" cx=\"2127.28\" cy=\"123.887\" r=\"14\"/>\n",
       "<circle clip-path=\"url(#clip8802)\" style=\"fill:#000000; stroke:none; fill-opacity:1\" cx=\"2210.17\" cy=\"100.898\" r=\"18\"/>\n",
       "<circle clip-path=\"url(#clip8802)\" style=\"fill:#3da44d; stroke:none; fill-opacity:1\" cx=\"2210.17\" cy=\"100.898\" r=\"14\"/>\n",
       "<circle clip-path=\"url(#clip8802)\" style=\"fill:#000000; stroke:none; fill-opacity:1\" cx=\"2293.07\" cy=\"88.0053\" r=\"18\"/>\n",
       "<circle clip-path=\"url(#clip8802)\" style=\"fill:#3da44d; stroke:none; fill-opacity:1\" cx=\"2293.07\" cy=\"88.0053\" r=\"14\"/>\n",
       "<polygon clip-path=\"url(#clip8800)\" points=\"\n",
       "1924.37,372.684 2280.76,372.684 2280.76,130.764 1924.37,130.764 \n",
       "  \" fill=\"#ffffff\" fill-rule=\"evenodd\" fill-opacity=\"1\"/>\n",
       "<polyline clip-path=\"url(#clip8800)\" style=\"stroke:#000000; stroke-width:4; stroke-opacity:1; fill:none\" points=\"\n",
       "  1924.37,372.684 2280.76,372.684 2280.76,130.764 1924.37,130.764 1924.37,372.684 \n",
       "  \"/>\n",
       "<circle clip-path=\"url(#clip8800)\" style=\"fill:#000000; stroke:none; fill-opacity:1\" cx=\"2032.37\" cy=\"191.244\" r=\"25\"/>\n",
       "<circle clip-path=\"url(#clip8800)\" style=\"fill:#009af9; stroke:none; fill-opacity:1\" cx=\"2032.37\" cy=\"191.244\" r=\"21\"/>\n",
       "<g clip-path=\"url(#clip8800)\">\n",
       "<text style=\"fill:#000000; fill-opacity:1; font-family:Arial,Helvetica Neue,Helvetica,sans-serif; font-size:48px; text-anchor:start;\" transform=\"rotate(0, 2116.37, 208.744)\" x=\"2116.37\" y=\"208.744\">N=10</text>\n",
       "</g>\n",
       "<circle clip-path=\"url(#clip8800)\" style=\"fill:#000000; stroke:none; fill-opacity:1\" cx=\"2032.37\" cy=\"251.724\" r=\"25\"/>\n",
       "<circle clip-path=\"url(#clip8800)\" style=\"fill:#e26f46; stroke:none; fill-opacity:1\" cx=\"2032.37\" cy=\"251.724\" r=\"21\"/>\n",
       "<g clip-path=\"url(#clip8800)\">\n",
       "<text style=\"fill:#000000; fill-opacity:1; font-family:Arial,Helvetica Neue,Helvetica,sans-serif; font-size:48px; text-anchor:start;\" transform=\"rotate(0, 2116.37, 269.224)\" x=\"2116.37\" y=\"269.224\">N=5</text>\n",
       "</g>\n",
       "<circle clip-path=\"url(#clip8800)\" style=\"fill:#000000; stroke:none; fill-opacity:1\" cx=\"2032.37\" cy=\"312.204\" r=\"25\"/>\n",
       "<circle clip-path=\"url(#clip8800)\" style=\"fill:#3da44d; stroke:none; fill-opacity:1\" cx=\"2032.37\" cy=\"312.204\" r=\"21\"/>\n",
       "<g clip-path=\"url(#clip8800)\">\n",
       "<text style=\"fill:#000000; fill-opacity:1; font-family:Arial,Helvetica Neue,Helvetica,sans-serif; font-size:48px; text-anchor:start;\" transform=\"rotate(0, 2116.37, 329.704)\" x=\"2116.37\" y=\"329.704\">N=25</text>\n",
       "</g>\n",
       "</svg>\n"
      ]
     },
     "execution_count": 4,
     "metadata": {},
     "output_type": "execute_result"
    }
   ],
   "source": [
    "t10 = gausslegendre(10)[1]\n",
    "t5  = gausslegendre(5 )[1]\n",
    "t25 = gausslegendre(25)[1]\n",
    "scatter(t10, label=\"N=10\", ylabel=\"discretized time\")\n",
    "scatter!(t5, label=\"N=5\" )\n",
    "scatter!(t25,label=\"N=25\")"
   ]
  },
  {
   "cell_type": "markdown",
   "metadata": {},
   "source": [
    "したがって，元のダイナミクスについて，\n",
    "$$\n",
    "F^{N}(t) :=\\sum_{l=0}^{N} F\\left(t_{l}\\right) \\phi_{l}(t)\n",
    "$$\n",
    "$t$は離散化されているので，\n",
    "$$\n",
    "F^{N}\\left(t_{k}\\right)=F\\left(t_{k}\\right), \\qquad k=0,1, \\cdots, N\n",
    "$$\n",
    "とわかる．$x, y, u$についても同様に$\\phi$を用いて離散化できる．\n",
    "\n",
    "$\\dot{F}$については，\n",
    "$$\n",
    "\\dot{F}^{N}\\left(t_{m}\\right)=\\sum_{l=0}^{N} D_{m l} F\\left(t_{l}\\right)\n",
    "$$\n",
    "で表される．ただし，\n",
    "$$\n",
    "D_{k i}=\\dot{L}_{i}\\left(\\tau_{k}\\right)=\\sum_{l=0}^{N} \\frac{\\prod_{j=0, j \\neq i, l}^{N}\\left(\\tau_{k}-\\tau_{j}\\right)}{\\prod_{j=0, j \\neq i}^{N}\\left(\\tau_{i}-\\tau_{j}\\right)}\n",
    "$$\n",
    "$$\n",
    "k = 1, ..., N \\quad and \\quad i = 0, ..., N\n",
    "$$\n",
    "なる$(N,N+1)$行列である．"
   ]
  },
  {
   "cell_type": "code",
   "execution_count": 53,
   "metadata": {},
   "outputs": [
    {
     "data": {
      "text/plain": [
       "GPMsetting"
      ]
     },
     "execution_count": 53,
     "metadata": {},
     "output_type": "execute_result"
    }
   ],
   "source": [
    "struct GPMsetting\n",
    "    N::Int\n",
    "    D::Matrix\n",
    "    τ::Vector\n",
    "    w::Vector\n",
    "end\n",
    "function GPMsetting(N)\n",
    "    D = zeros(N,N+1)\n",
    "    τ, w = gausslegendre(N)\n",
    "    τ = append!(-1*ones(1), τ)\n",
    "    τ = append!(τ, ones(1))\n",
    "    for k in 2:N+1\n",
    "        for l in 1:N+1\n",
    "            if k==l\n",
    "                D[k-1,l] = 0\n",
    "                for m in 1:N+1\n",
    "                    if m != k\n",
    "                        D[k-1,l] += 1.0/(τ[k]-τ[m])\n",
    "                    end\n",
    "                end\n",
    "            else\n",
    "                D[k-1,l] = 1.0/(τ[l]-τ[k])\n",
    "                for m in 1:N+1\n",
    "                    if m != k && m != l\n",
    "                        D[k-1,l] *= (τ[k]-τ[m])/(τ[l]-τ[m])\n",
    "                    end\n",
    "                end\n",
    "            end\n",
    "        end\n",
    "    end\n",
    "    return GPMsetting(N, D, τ, w)\n",
    "end"
   ]
  },
  {
   "cell_type": "code",
   "execution_count": 54,
   "metadata": {},
   "outputs": [
    {
     "data": {
      "text/plain": [
       "GPMsetting(10, [-24.1333 19.4152 … -0.0251783 0.00678669; 7.29211 -14.356 … 0.0418175 -0.0112322; … ; -7.29211 11.7442 … 3.97353 2.62303; 24.1333 -38.8372 … -32.1806 19.4152], [-1.0, -0.973907, -0.865063, -0.67941, -0.433395, -0.148874, 0.148874, 0.433395, 0.67941, 0.865063, 0.973907, 1.0], [0.0666713, 0.149451, 0.219086, 0.269267, 0.295524, 0.295524, 0.269267, 0.219086, 0.149451, 0.0666713])"
      ]
     },
     "execution_count": 54,
     "metadata": {},
     "output_type": "execute_result"
    }
   ],
   "source": [
    "GPMsetting(10)"
   ]
  },
  {
   "cell_type": "markdown",
   "metadata": {},
   "source": [
    "離散化されたダイナミクスは，\n",
    "$$\n",
    "\\sum_{i=0}^{N} D_{k i} \\mathbf{X}_{i}-\\frac{T}{2} \\mathbf{f}\\left(\\mathbf{X}_{k}, \\mathbf{U}_{k}, \\tau_{k} ; T\\right)=\\mathbf{0} \\qquad(k=1, \\ldots, N)\n",
    "$$\n",
    "$$\n",
    "\\mathbf{X}_{f} \\equiv \\mathbf{X}_{0}+\\frac{T}{2} \\sum_{k=1}^{N} w_{k} \\mathbf{f}\\left(\\mathbf{X}_{k}, \\mathbf{U}_{k}, \\tau_{k} ; T\\right)\n",
    "$$\n",
    "目的関数はGauss-Lobattoの積分公式より，\n",
    "$$\n",
    "\\int_{-1}^{1} g\\left(x^{N}(t), y^{N}(t), u^{N}(t), t, T\\right) d t=\\sum_{k=0}^{N} g\\left(x^{N}\\left(t_{k}\\right), y^{N}(t_k), u^{N}\\left(t_{k}\\right), t_{k}, T\\right) w_{k}\n",
    "$$\n",
    "なる重み付き線形和で表される．ただし，\n",
    "$$\n",
    "w_{k}=\\frac{2}{N(N+1)} \\cdot \\frac{1}{\\left[L_{N}\\left(t_{k}\\right)\\right]^{2}} \\qquad k=0,1, \\cdots, N\n",
    "$$\n",
    "なる，Gauss-Legendre quadratureの重みである．したがって，\n",
    "$$\n",
    "J=\\Phi\\left(\\mathbf{X}_{0}, 0, \\mathbf{X}_{f}, T\\right)+\\frac{T}{2} \\sum_{k=1}^{N} w_{k} g\\left(\\mathbf{X}_{k}, \\mathbf{U}_{k}, \\tau_{k} ; T\\right)\n",
    "$$\n",
    "制約条件は\n",
    "$$\n",
    "\\mathbf{C}\\left(\\mathbf{X}_{k}, \\mathbf{U}_{k}, \\tau_{k} ; t_{0}, t_{f}\\right) \\leq \\mathbf{0} \\qquad(k=1, \\ldots, N)\n",
    "$$\n",
    "となる．\n",
    "\n",
    "初期値と最終値の拘束条件は，\n",
    "$$\n",
    "\\phi\\left(\\mathbf{X}_{0}, t_{0}, \\mathbf{X}_{f}, t_{f}\\right)=\\mathbf{0}\n",
    "$$"
   ]
  },
  {
   "cell_type": "code",
   "execution_count": 55,
   "metadata": {},
   "outputs": [
    {
     "data": {
      "text/plain": [
       "CostFun (generic function with 1 method)"
      ]
     },
     "execution_count": 55,
     "metadata": {},
     "output_type": "execute_result"
    }
   ],
   "source": [
    "DiscDynamics(X::Vector,U::Vector,t0, tf,f, set::GPMsetting) = sum(set.D*X,axis=1)-(tf-t0)/2*f(X,U,set.τ)\n",
    "Xf(X::Vector,U::Vector,X₀, t0, tf, f, set::GPMsetting) = X₀ + (tf-t0)/2*sum(set.w*f(X,U,set.τ))\n",
    "CostFun(X₀, t0, Xf, tf, g, set::GPMsetting) = Φ(X₀, t0, Xf, tf) + (tf-t0)/2*sum(set.w*g(X,U,set.τ))"
   ]
  },
  {
   "cell_type": "markdown",
   "metadata": {},
   "source": [
    "最適制御の問題は\n",
    "$$\n",
    "J^{N}(\\alpha, \\beta, T) :=h\\left(a_{N}, T\\right)+\\sum_{k=0}^{N} g\\left(a_{k}, b_{k}, t_{k}, T\\right) w_{k}\n",
    "$$\n",
    "subject to\n",
    "$$\n",
    "A_{k} :=f\\left(a_{k}, b_{k}, t_{k}, T\\right)-d_{k}=0,(k=0,1, \\cdots, N)\n",
    "$$\n",
    "を最小化させる最適な\n",
    "$$\n",
    "\\alpha :=\\left(a_{0}, a_{1}, \\cdots, a_{N}\\right), \\quad \\beta :=\\left(b_{0}, b_{1}, \\cdots, b_{N}\\right), \\quad T\n",
    "$$\n",
    "を探索する問題になる．"
   ]
  },
  {
   "cell_type": "code",
   "execution_count": null,
   "metadata": {},
   "outputs": [],
   "source": []
  },
  {
   "cell_type": "code",
   "execution_count": null,
   "metadata": {},
   "outputs": [],
   "source": [
    "function GaussLegendre_gamma(N,xf)\n",
    "    set = GPMsetting(N)\n",
    "end"
   ]
  },
  {
   "cell_type": "markdown",
   "metadata": {},
   "source": [
    "### 参考文献\n",
    "Elnagar, Gamal, Mohammad A. Kazemi, and Mohsen Razzaghi. \"The pseudospectral Legendre method for discretizing optimal control problems.\" IEEE transactions on Automatic Control 40.10 (1995): 1793-1796.\n",
    "\n",
    "Benson, David A., et al. \"Direct trajectory optimization and costate estimation via an orthogonal collocation method.\" Journal of Guidance, Control, and Dynamics 29.6 (2006): 1435-1440."
   ]
  },
  {
   "cell_type": "code",
   "execution_count": null,
   "metadata": {},
   "outputs": [],
   "source": []
  }
 ],
 "metadata": {
  "kernelspec": {
   "display_name": "Julia 1.1.1",
   "language": "julia",
   "name": "julia-1.1"
  },
  "language_info": {
   "file_extension": ".jl",
   "mimetype": "application/julia",
   "name": "julia",
   "version": "1.1.1"
  }
 },
 "nbformat": 4,
 "nbformat_minor": 2
}
